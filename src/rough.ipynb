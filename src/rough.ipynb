{
 "cells": [
  {
   "cell_type": "code",
   "execution_count": null,
   "metadata": {},
   "outputs": [],
   "source": []
  },
  {
   "cell_type": "code",
   "execution_count": null,
   "metadata": {},
   "outputs": [],
   "source": [
    "# Cross validation and Linear Regression\n",
    "# All features except Geography and Gender\n",
    "\n",
    "# X = df.loc[:,['CreditScore','Age',\"Tenure\",\"Balance\",\"NumOfProducts\",\"HasCrCard\",\"IsActiveMember\",\"EstimatedSalary\"]]\n",
    "# y = df.target\n",
    "\n",
    "# logreg = LogisticRegression(solver=\"lbfgs\")\n",
    "\n",
    "# cross_val_score(logreg, X, y, cv=5, scoring=\"recall\").mean()"
   ]
  },
  {
   "cell_type": "code",
   "execution_count": null,
   "metadata": {},
   "outputs": [],
   "source": [
    "# Cross validation, Linear Regression + Pipeline\n",
    "# All features with Geography and Gender being encoded\n",
    "\n",
    "# X = X_train\n",
    "\n",
    "# column_trans = make_column_transformer(\n",
    "#     (OneHotEncoder(),[\"Geography\",\"Gender\"]),\n",
    "#     remainder=\"passthrough\")\n",
    "\n",
    "# pipe = make_pipeline(column_trans, logreg)\n",
    "\n",
    "# We are cross validating our entire pipeline not just a model, a pipeline of steps that includes\n",
    "# preprocessing of data and model building\n",
    "# print(cross_val_score(pipe, X, y, cv=5, scoring=\"recall\").mean())\n",
    "\n",
    "# Normally to evaluate our model we would do model.fit(), but here we have a pipeline that includes\n",
    "# a model so we can do:\n",
    "\n",
    "# pipe.fit(X, y) # train on X and y\n",
    "\n",
    "# X_new = X.sample(5, random_state=42)\n",
    "\n",
    "# print(\"Predictions for following customers\",pipe.predict(X_new))\n",
    "# X_new\n"
   ]
  },
  {
   "cell_type": "code",
   "execution_count": null,
   "metadata": {},
   "outputs": [],
   "source": [
    "# Our metrics didn´t improve greatly and we are not very efficient at predicting correctly.\n",
    "# Our predicted customer churned is not working\n",
    "# df[df['CustomerId'] == 15679743]"
   ]
  },
  {
   "cell_type": "code",
   "execution_count": null,
   "metadata": {},
   "outputs": [],
   "source": [
    "# svc = svm.SVC()\n",
    "\n",
    "# param_grid = {\n",
    "#     'kernel': ['linear', 'rbf', 'sigmoid'],\n",
    "#     'C': [0.01, 0.5, 1, 5,],\n",
    "#     'gamma': ['scale', 'auto'],\n",
    "#     'coef0': [-10, -1, 0, 0.1, 0.5, 1, 10]\n",
    "# }\n",
    "\n",
    "# grid = GridSearchCV(estimator=svc,\n",
    "#                       param_grid=param_grid,\n",
    "#                       scoring=\"recall\",\n",
    "#                       cv=5, \n",
    "#                       verbose=False,\n",
    "#                       n_jobs=-1)\n",
    "\n",
    "\n",
    "# # Fit in test\n",
    "# grid.fit(X_train, y_train)\n",
    "# best_svc_clf = grid.fit(X_train, y_train)\n",
    "\n",
    "# print(\"Score:\",grid.score(X_val, y_val))\n",
    "# print(\"Best Estimator:\",grid.best_estimator_) \n",
    "# print(\"Best Score:\",grid.best_score_)"
   ]
  },
  {
   "cell_type": "code",
   "execution_count": null,
   "metadata": {},
   "outputs": [],
   "source": [
    "# ct = make_column_transformer(\n",
    "#     (OneHotEncoder(),[\"Geography\",\"Gender\"]),\n",
    "#     remainder=\"passthrough\")\n",
    "\n",
    "# X_train = ct.fit_transform(X_train)\n"
   ]
  }
 ],
 "metadata": {
  "language_info": {
   "name": "python"
  },
  "orig_nbformat": 4
 },
 "nbformat": 4,
 "nbformat_minor": 2
}
